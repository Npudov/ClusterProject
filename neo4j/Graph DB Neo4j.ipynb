{
 "cells": [
  {
   "cell_type": "code",
   "execution_count": 1,
   "id": "fa6999ea",
   "metadata": {},
   "outputs": [
    {
     "name": "stdout",
     "output_type": "stream",
     "text": [
      "Requirement already satisfied: neo4j in c:\\users\\nik\\anaconda3\\lib\\site-packages (5.19.0)\n",
      "Requirement already satisfied: pytz in c:\\users\\nik\\anaconda3\\lib\\site-packages (from neo4j) (2023.3.post1)\n"
     ]
    }
   ],
   "source": [
    "!pip install neo4j"
   ]
  },
  {
   "cell_type": "code",
   "execution_count": 2,
   "id": "ac489624",
   "metadata": {},
   "outputs": [
    {
     "name": "stdout",
     "output_type": "stream",
     "text": [
      "Requirement already satisfied: ipython-cypher in c:\\users\\nik\\anaconda3\\lib\\site-packages (0.2.6)\n",
      "Requirement already satisfied: neo4jrestclient>=2.1.0 in c:\\users\\nik\\anaconda3\\lib\\site-packages (from ipython-cypher) (2.1.1)\n",
      "Requirement already satisfied: prettytable in c:\\users\\nik\\anaconda3\\lib\\site-packages (from ipython-cypher) (3.10.0)\n",
      "Requirement already satisfied: ipython>=1.0 in c:\\users\\nik\\anaconda3\\lib\\site-packages (from ipython-cypher) (8.15.0)\n",
      "Requirement already satisfied: backcall in c:\\users\\nik\\anaconda3\\lib\\site-packages (from ipython>=1.0->ipython-cypher) (0.2.0)\n",
      "Requirement already satisfied: decorator in c:\\users\\nik\\anaconda3\\lib\\site-packages (from ipython>=1.0->ipython-cypher) (5.1.1)\n",
      "Requirement already satisfied: jedi>=0.16 in c:\\users\\nik\\anaconda3\\lib\\site-packages (from ipython>=1.0->ipython-cypher) (0.18.1)\n",
      "Requirement already satisfied: matplotlib-inline in c:\\users\\nik\\anaconda3\\lib\\site-packages (from ipython>=1.0->ipython-cypher) (0.1.6)\n",
      "Requirement already satisfied: pickleshare in c:\\users\\nik\\anaconda3\\lib\\site-packages (from ipython>=1.0->ipython-cypher) (0.7.5)\n",
      "Requirement already satisfied: prompt-toolkit!=3.0.37,<3.1.0,>=3.0.30 in c:\\users\\nik\\anaconda3\\lib\\site-packages (from ipython>=1.0->ipython-cypher) (3.0.36)\n",
      "Requirement already satisfied: pygments>=2.4.0 in c:\\users\\nik\\anaconda3\\lib\\site-packages (from ipython>=1.0->ipython-cypher) (2.15.1)\n",
      "Requirement already satisfied: stack-data in c:\\users\\nik\\anaconda3\\lib\\site-packages (from ipython>=1.0->ipython-cypher) (0.2.0)\n",
      "Requirement already satisfied: traitlets>=5 in c:\\users\\nik\\anaconda3\\lib\\site-packages (from ipython>=1.0->ipython-cypher) (5.7.1)\n",
      "Requirement already satisfied: colorama in c:\\users\\nik\\anaconda3\\lib\\site-packages (from ipython>=1.0->ipython-cypher) (0.4.6)\n",
      "Requirement already satisfied: requests>=2.1.0 in c:\\users\\nik\\anaconda3\\lib\\site-packages (from neo4jrestclient>=2.1.0->ipython-cypher) (2.31.0)\n",
      "Requirement already satisfied: wcwidth in c:\\users\\nik\\anaconda3\\lib\\site-packages (from prettytable->ipython-cypher) (0.2.5)\n",
      "Requirement already satisfied: parso<0.9.0,>=0.8.0 in c:\\users\\nik\\anaconda3\\lib\\site-packages (from jedi>=0.16->ipython>=1.0->ipython-cypher) (0.8.3)\n",
      "Requirement already satisfied: charset-normalizer<4,>=2 in c:\\users\\nik\\anaconda3\\lib\\site-packages (from requests>=2.1.0->neo4jrestclient>=2.1.0->ipython-cypher) (2.0.4)\n",
      "Requirement already satisfied: idna<4,>=2.5 in c:\\users\\nik\\anaconda3\\lib\\site-packages (from requests>=2.1.0->neo4jrestclient>=2.1.0->ipython-cypher) (3.4)\n",
      "Requirement already satisfied: urllib3<3,>=1.21.1 in c:\\users\\nik\\anaconda3\\lib\\site-packages (from requests>=2.1.0->neo4jrestclient>=2.1.0->ipython-cypher) (1.26.16)\n",
      "Requirement already satisfied: certifi>=2017.4.17 in c:\\users\\nik\\anaconda3\\lib\\site-packages (from requests>=2.1.0->neo4jrestclient>=2.1.0->ipython-cypher) (2023.7.22)\n",
      "Requirement already satisfied: executing in c:\\users\\nik\\anaconda3\\lib\\site-packages (from stack-data->ipython>=1.0->ipython-cypher) (0.8.3)\n",
      "Requirement already satisfied: asttokens in c:\\users\\nik\\anaconda3\\lib\\site-packages (from stack-data->ipython>=1.0->ipython-cypher) (2.0.5)\n",
      "Requirement already satisfied: pure-eval in c:\\users\\nik\\anaconda3\\lib\\site-packages (from stack-data->ipython>=1.0->ipython-cypher) (0.2.2)\n",
      "Requirement already satisfied: six in c:\\users\\nik\\anaconda3\\lib\\site-packages (from asttokens->stack-data->ipython>=1.0->ipython-cypher) (1.16.0)\n"
     ]
    }
   ],
   "source": [
    "!pip install ipython-cypher"
   ]
  },
  {
   "cell_type": "code",
   "execution_count": 3,
   "id": "ad9f9810",
   "metadata": {},
   "outputs": [],
   "source": [
    "import time"
   ]
  },
  {
   "cell_type": "code",
   "execution_count": 4,
   "id": "d1191f98",
   "metadata": {},
   "outputs": [],
   "source": [
    "import pandas as pd"
   ]
  },
  {
   "cell_type": "code",
   "execution_count": 5,
   "id": "c5153e34",
   "metadata": {},
   "outputs": [],
   "source": [
    "from tqdm import tqdm"
   ]
  },
  {
   "cell_type": "code",
   "execution_count": 6,
   "id": "669fa99e",
   "metadata": {},
   "outputs": [],
   "source": [
    "from neo4j import GraphDatabase"
   ]
  },
  {
   "cell_type": "code",
   "execution_count": 7,
   "id": "57c0b8ba",
   "metadata": {},
   "outputs": [],
   "source": [
    "from faker import Faker\n",
    "import random"
   ]
  },
  {
   "cell_type": "code",
   "execution_count": 8,
   "id": "6df8437a",
   "metadata": {},
   "outputs": [],
   "source": [
    "uri = \"bolt://localhost:7687\"\n",
    "username = \"neo4j\"\n",
    "password = \"changeme\""
   ]
  },
  {
   "cell_type": "code",
   "execution_count": 9,
   "id": "e6b88378",
   "metadata": {},
   "outputs": [],
   "source": [
    "driver = GraphDatabase.driver(uri, auth=(username, password))"
   ]
  },
  {
   "cell_type": "code",
   "execution_count": 10,
   "id": "99409251",
   "metadata": {},
   "outputs": [
    {
     "data": {
      "text/plain": [
       "<neo4j._sync.driver.BoltDriver at 0x1c4b7dfb410>"
      ]
     },
     "execution_count": 10,
     "metadata": {},
     "output_type": "execute_result"
    }
   ],
   "source": [
    "driver"
   ]
  },
  {
   "cell_type": "markdown",
   "id": "b9cd7de2",
   "metadata": {},
   "source": [
    "Создадим узлы и отношения между ними"
   ]
  },
  {
   "cell_type": "markdown",
   "id": "87528199",
   "metadata": {},
   "source": [
    "Очистим базу"
   ]
  },
  {
   "cell_type": "code",
   "execution_count": 11,
   "id": "c2ce04db",
   "metadata": {},
   "outputs": [],
   "source": [
    "# Функция для очистки базы данных\n",
    "def clear_database(driver):\n",
    "    # Создание сессии\n",
    "    with driver.session() as session:\n",
    "        # Удаление всех узлов и отношений\n",
    "        session.run(\"MATCH (n) DETACH DELETE n\")"
   ]
  },
  {
   "cell_type": "code",
   "execution_count": 12,
   "id": "1d64b102",
   "metadata": {},
   "outputs": [],
   "source": [
    "# Функция для вывода информации о узлах\n",
    "def print_node_info(driver):\n",
    "    try:\n",
    "        # Получение информации об узлах\n",
    "        with driver.session() as session:\n",
    "            result = session.run(\"MATCH (n) RETURN n\")\n",
    "            print(\"Информация об узлах:\")\n",
    "            for record in result:\n",
    "                node_properties = record[\"n\"]\n",
    "                print(dict(node_properties.items()))\n",
    "    except Exception as e:\n",
    "        print(f\"Произошла ошибка: {e}\")"
   ]
  },
  {
   "cell_type": "code",
   "execution_count": null,
   "id": "6f327f32",
   "metadata": {},
   "outputs": [],
   "source": [
    "clear_database(driver)"
   ]
  },
  {
   "cell_type": "markdown",
   "id": "75ffbc70",
   "metadata": {},
   "source": [
    "Создадим функции для генерации узлов и отношений с заданным количеством записей"
   ]
  },
  {
   "cell_type": "code",
   "execution_count": 13,
   "id": "e80763c3",
   "metadata": {},
   "outputs": [],
   "source": [
    "def generate_clients(num_records):\n",
    "    fake = Faker()\n",
    "        \n",
    "    clients_data = []\n",
    "    for _ in range(num_records):\n",
    "        client_name = fake.name()\n",
    "        phone = fake.phone_number()\n",
    "        clients_data.append({\"client_name\": client_name, \"phone\": phone})\n",
    "    return clients_data"
   ]
  },
  {
   "cell_type": "code",
   "execution_count": 14,
   "id": "10b8ef1f",
   "metadata": {},
   "outputs": [],
   "source": [
    "def generate_clients_csv(num_records):\n",
    "    fake = Faker()\n",
    "\n",
    "    names = []\n",
    "    phones = []\n",
    "    # Заполняем DataFrame данными о клиентах\n",
    "    for _ in tqdm(range(num_records), desc=\"Генерация данных\"):\n",
    "        client_name = fake.name()\n",
    "        phone = fake.phone_number()\n",
    "        names.append(client_name)\n",
    "        phones.append(phone)\n",
    "    \n",
    "    d = {\"client_name\": names, \"phone\": phones}\n",
    "    clients_df = pd.DataFrame(d)\n",
    "\n",
    "    # Записываем DataFrame в CSV файл с отслеживанием прогресса\n",
    "    with tqdm(total=len(clients_df), desc=\"Запись в файл\") as pbar:\n",
    "        clients_df.to_csv(\"clients.csv\", index=False)\n",
    "        pbar.update(len(clients_df))\n"
   ]
  },
  {
   "cell_type": "code",
   "execution_count": 15,
   "id": "2e2c08e9",
   "metadata": {},
   "outputs": [],
   "source": [
    "def generate_officiants(num_records):\n",
    "    fake = Faker()\n",
    "    \n",
    "    officiants_data = []\n",
    "    for _ in range(num_records):\n",
    "        officiant_name = fake.name()\n",
    "        officiants_data.append({\"officiant_name\": officiant_name})\n",
    "    return officiants_data"
   ]
  },
  {
   "cell_type": "code",
   "execution_count": 16,
   "id": "508daab6",
   "metadata": {},
   "outputs": [],
   "source": [
    "def generate_tables(num_records):\n",
    "    tables_data = []\n",
    "    for i in range(num_records):\n",
    "        table_number = i + 1 \n",
    "        tables_data.append({\"table_number\": table_number})\n",
    "    return tables_data"
   ]
  },
  {
   "cell_type": "code",
   "execution_count": 17,
   "id": "4bd6f1fc",
   "metadata": {},
   "outputs": [],
   "source": [
    "def load_clients_into_neo4j(driver):\n",
    "    query_string = '''\n",
    "    USING PERIODIC COMMIT 1000\n",
    "    LOAD CSV WITH HEADERS FROM 'file:///clients.csv' AS row\n",
    "    CREATE (c:Client {client_name: row.client_name, phone: row.phone})\n",
    "    '''\n",
    "    with driver.session() as session:\n",
    "        session.run(query_string)"
   ]
  },
  {
   "cell_type": "code",
   "execution_count": 18,
   "id": "3b3bb0ff",
   "metadata": {},
   "outputs": [],
   "source": [
    "def create_clients_relationships(driver):\n",
    "    query_string = '''\n",
    "    USING PERIODIC COMMIT 1000\n",
    "    LOAD CSV WITH HEADERS FROM 'file:///clients.csv' AS row\n",
    "    WITH row ORDER BY rand() LIMIT 1000\n",
    "    MATCH (t:Table)\n",
    "    WITH row, t ORDER BY rand() LIMIT 1000\n",
    "    CREATE (c:Client {client_name: row.client_name, phone: row.phone})-[:reserved]->(t)\n",
    "    '''\n",
    "    with driver.session() as session:\n",
    "        session.run(query_string)"
   ]
  },
  {
   "cell_type": "code",
   "execution_count": 19,
   "id": "347a2866",
   "metadata": {},
   "outputs": [],
   "source": [
    "def create_nodes_and_relationships(driver, officiants_data, tables_data):\n",
    "    try:\n",
    "        with driver.session() as session:\n",
    "            session.run(\"UNWIND $officiants_data AS data \"\n",
    "                        \"CREATE (:Officiant {officiant_name: data.officiant_name})\", officiants_data=officiants_data)\n",
    "        with driver.session() as session:\n",
    "            session.run(\"UNWIND $tables_data AS data \"\n",
    "                        \"CREATE (:Table {table_number: data.table_number})\", tables_data=tables_data)\n",
    "\n",
    "        num_officiants = len(officiants_data)\n",
    "        num_tables = len(tables_data)\n",
    "\n",
    "        with driver.session() as session:\n",
    "            session.run(\"MATCH (o:Officiant), (t:Table) \"\n",
    "                        \"WHERE id(o) % $num_officiants = id(t) % $num_tables \"\n",
    "                        \"CREATE (o)-[:serve]->(t)\", num_officiants=num_officiants, num_tables=num_tables)    \n",
    "    except Exception as e:\n",
    "        print(f\"Произошла ошибка: {e}\")"
   ]
  },
  {
   "cell_type": "markdown",
   "id": "5b1a5a49",
   "metadata": {},
   "source": [
    "Создадим функцию для вывода информации об узлах и отношениях"
   ]
  },
  {
   "cell_type": "code",
   "execution_count": 20,
   "id": "50cab5cb",
   "metadata": {},
   "outputs": [],
   "source": [
    "# Функция для вывода информации о узлах и отношениях\n",
    "def print_node_and_relationship_info(driver):\n",
    "    try:\n",
    "        with driver.session() as session:\n",
    "            # Получение информации об узлах\n",
    "            print(\"Узлы:\")\n",
    "            nodes_result = session.run(\"MATCH (n) RETURN n\")\n",
    "            for record in nodes_result:\n",
    "                node = record[\"n\"]\n",
    "                print(\"Узел:\")\n",
    "                for key, value in dict(node.items()).items():\n",
    "                    print(f\"{key}: {value}\")\n",
    "\n",
    "            # Получение информации об отношениях\n",
    "            print(\"\\nОтношения:\")\n",
    "            relationships_result = session.run(\"MATCH ()-[r]->() RETURN r\")\n",
    "            for record in relationships_result:\n",
    "                relationship = record[\"r\"]\n",
    "                print(\"Отношение:\")\n",
    "                for key, value in dict(relationship.items()).items():\n",
    "                    print(f\"{key}: {value}\")\n",
    "    except Exception as e:\n",
    "        print(f\"Произошла ошибка: {e}\")"
   ]
  },
  {
   "cell_type": "code",
   "execution_count": 21,
   "id": "69d795f8",
   "metadata": {},
   "outputs": [],
   "source": [
    "officiants = generate_officiants(10)"
   ]
  },
  {
   "cell_type": "code",
   "execution_count": 22,
   "id": "702a2a2c",
   "metadata": {},
   "outputs": [],
   "source": [
    "tables = generate_tables(10)"
   ]
  },
  {
   "cell_type": "code",
   "execution_count": 23,
   "id": "be93ae26",
   "metadata": {},
   "outputs": [],
   "source": [
    "start = time.time()\n",
    "load_clients_into_neo4j(driver)\n",
    "end = time.time() - start"
   ]
  },
  {
   "cell_type": "code",
   "execution_count": 24,
   "id": "6dd79203",
   "metadata": {},
   "outputs": [
    {
     "name": "stdout",
     "output_type": "stream",
     "text": [
      "Время заполнения таблиц: 0.31577502489089965 minutes\n"
     ]
    }
   ],
   "source": [
    "print(f\"Время заполнения таблиц: {end / 60} minutes\")"
   ]
  },
  {
   "cell_type": "code",
   "execution_count": 25,
   "id": "c130e581",
   "metadata": {},
   "outputs": [],
   "source": [
    "start = time.time()\n",
    "create_nodes_and_relationships(driver, officiants, tables)\n",
    "end = time.time() - start"
   ]
  },
  {
   "cell_type": "code",
   "execution_count": 26,
   "id": "041180de",
   "metadata": {},
   "outputs": [
    {
     "name": "stdout",
     "output_type": "stream",
     "text": [
      "Время заполнения таблиц: 309.53478813171387 ms\n"
     ]
    }
   ],
   "source": [
    "print(f\"Время заполнения таблиц: {end * 1000} ms\")"
   ]
  },
  {
   "cell_type": "code",
   "execution_count": null,
   "id": "9ad75545",
   "metadata": {},
   "outputs": [],
   "source": [
    "# Вызов функции для вывода информации о созданных узлах и отношениях\n",
    "print_node_and_relationship_info(driver)"
   ]
  },
  {
   "cell_type": "code",
   "execution_count": 28,
   "id": "6f448e55",
   "metadata": {},
   "outputs": [],
   "source": [
    "create_clients_relationships(driver)"
   ]
  },
  {
   "cell_type": "code",
   "execution_count": null,
   "id": "32be520f",
   "metadata": {},
   "outputs": [],
   "source": [
    "# Вывод информации об узлах клиентов\n",
    "with driver.session() as session:\n",
    "    result = session.run(\"MATCH (c:Client) RETURN c\")\n",
    "    print(\"Узлы клиентов:\")\n",
    "    for record in result:\n",
    "        print(record[\"c\"])"
   ]
  },
  {
   "cell_type": "markdown",
   "id": "942d6cac",
   "metadata": {},
   "source": [
    "Напишем запросы к данным:"
   ]
  },
  {
   "cell_type": "code",
   "execution_count": 30,
   "id": "a0887937",
   "metadata": {},
   "outputs": [],
   "source": [
    "def get_all_clients(driver):\n",
    "    with driver.session() as session:\n",
    "        result = session.run(\"MATCH (c:Client) RETURN c\")\n",
    "        return [record[\"c\"] for record in result]"
   ]
  },
  {
   "cell_type": "code",
   "execution_count": 31,
   "id": "02f78f94",
   "metadata": {},
   "outputs": [],
   "source": [
    "def get_all_tables(driver):\n",
    "    with driver.session() as session:\n",
    "        result = session.run(\"MATCH (t:Table) RETURN t\")\n",
    "        return [record[\"t\"] for record in result]"
   ]
  },
  {
   "cell_type": "code",
   "execution_count": 32,
   "id": "1d426a07",
   "metadata": {},
   "outputs": [],
   "source": [
    "def get_all_officiants(driver):\n",
    "    with driver.session() as session:\n",
    "        result = session.run(\"MATCH (o:Officiant) RETURN o\")\n",
    "        return [record[\"o\"] for record in result]"
   ]
  },
  {
   "cell_type": "code",
   "execution_count": 33,
   "id": "ada00d27",
   "metadata": {},
   "outputs": [],
   "source": [
    "def get_clients_reserved_for_table(driver, table_number):\n",
    "    with driver.session() as session:\n",
    "        result = session.run(\n",
    "            \"MATCH (c:Client)-[:reserved]->(t:Table) WHERE t.table_number = $table_number RETURN c\",\n",
    "            table_number=table_number\n",
    "        )\n",
    "        return [record[\"c\"] for record in result]"
   ]
  },
  {
   "cell_type": "code",
   "execution_count": 34,
   "id": "5f1beaee",
   "metadata": {},
   "outputs": [],
   "source": [
    "def get_tables_served_by_officiant(driver, officiant_name):\n",
    "    with driver.session() as session:\n",
    "        result = session.run(\n",
    "            \"MATCH (o:Officiant)-[:serve]->(t:Table) WHERE o.officiant_name = $officiant_name RETURN t\",\n",
    "            officiant_name=officiant_name\n",
    "        )\n",
    "        return [record[\"t\"] for record in result]"
   ]
  },
  {
   "cell_type": "code",
   "execution_count": 35,
   "id": "e099cad7",
   "metadata": {},
   "outputs": [
    {
     "name": "stderr",
     "output_type": "stream",
     "text": [
      "IOPub data rate exceeded.\n",
      "The notebook server will temporarily stop sending output\n",
      "to the client in order to avoid crashing it.\n",
      "To change this limit, set the config variable\n",
      "`--NotebookApp.iopub_data_rate_limit`.\n",
      "\n",
      "Current values:\n",
      "NotebookApp.iopub_data_rate_limit=1000000.0 (bytes/sec)\n",
      "NotebookApp.rate_limit_window=3.0 (secs)\n",
      "\n"
     ]
    }
   ],
   "source": [
    "# Получение всех клиентов\n",
    "start = time.time()\n",
    "all_clients = get_all_clients(driver)\n",
    "end = time.time() - start\n",
    "print(\"All clients:\")\n",
    "for client in all_clients:\n",
    "    print(client)"
   ]
  },
  {
   "cell_type": "code",
   "execution_count": 36,
   "id": "06acf073",
   "metadata": {},
   "outputs": [
    {
     "name": "stdout",
     "output_type": "stream",
     "text": [
      "Время выполнения запроса: 52177.655935287476 ms\n"
     ]
    }
   ],
   "source": [
    "print(f\"Время выполнения запроса: {end * 1000} ms\")"
   ]
  },
  {
   "cell_type": "code",
   "execution_count": 37,
   "id": "e3ef666e",
   "metadata": {},
   "outputs": [
    {
     "name": "stdout",
     "output_type": "stream",
     "text": [
      "All tables:\n",
      "<Node element_id='2000020' labels=frozenset({'Table'}) properties={'table_number': 1}>\n",
      "<Node element_id='2000021' labels=frozenset({'Table'}) properties={'table_number': 2}>\n",
      "<Node element_id='2000022' labels=frozenset({'Table'}) properties={'table_number': 3}>\n",
      "<Node element_id='2000023' labels=frozenset({'Table'}) properties={'table_number': 4}>\n",
      "<Node element_id='2000024' labels=frozenset({'Table'}) properties={'table_number': 5}>\n",
      "<Node element_id='2000025' labels=frozenset({'Table'}) properties={'table_number': 6}>\n",
      "<Node element_id='2000026' labels=frozenset({'Table'}) properties={'table_number': 7}>\n",
      "<Node element_id='2000027' labels=frozenset({'Table'}) properties={'table_number': 8}>\n",
      "<Node element_id='2000028' labels=frozenset({'Table'}) properties={'table_number': 9}>\n",
      "<Node element_id='2000029' labels=frozenset({'Table'}) properties={'table_number': 10}>\n"
     ]
    }
   ],
   "source": [
    "# Получение всех столов\n",
    "start = time.time()\n",
    "all_tables = get_all_tables(driver)\n",
    "end = time.time() - start\n",
    "print(\"All tables:\")\n",
    "for table in all_tables:\n",
    "    print(table)"
   ]
  },
  {
   "cell_type": "code",
   "execution_count": 38,
   "id": "bd9861bf",
   "metadata": {},
   "outputs": [
    {
     "name": "stdout",
     "output_type": "stream",
     "text": [
      "Время выполнения запроса: 12.20250129699707 ms\n"
     ]
    }
   ],
   "source": [
    "print(f\"Время выполнения запроса: {end * 1000} ms\")"
   ]
  },
  {
   "cell_type": "code",
   "execution_count": 39,
   "id": "3de91968",
   "metadata": {},
   "outputs": [
    {
     "name": "stdout",
     "output_type": "stream",
     "text": [
      "\n",
      "All officiants:\n",
      "<Node element_id='2000000' labels=frozenset({'Officiant'}) properties={'officiant_name': 'Julia Jones'}>\n",
      "<Node element_id='2000001' labels=frozenset({'Officiant'}) properties={'officiant_name': 'Tiffany Farrell'}>\n",
      "<Node element_id='2000002' labels=frozenset({'Officiant'}) properties={'officiant_name': 'Cody Stephens'}>\n",
      "<Node element_id='2000003' labels=frozenset({'Officiant'}) properties={'officiant_name': 'Katherine Morales'}>\n",
      "<Node element_id='2000004' labels=frozenset({'Officiant'}) properties={'officiant_name': 'Christopher Sanchez'}>\n",
      "<Node element_id='2000005' labels=frozenset({'Officiant'}) properties={'officiant_name': 'Theresa Crosby'}>\n",
      "<Node element_id='2000006' labels=frozenset({'Officiant'}) properties={'officiant_name': 'Kevin Miles'}>\n",
      "<Node element_id='2000007' labels=frozenset({'Officiant'}) properties={'officiant_name': 'Jennifer Alvarez'}>\n",
      "<Node element_id='2000008' labels=frozenset({'Officiant'}) properties={'officiant_name': 'Corey Stewart'}>\n",
      "<Node element_id='2000009' labels=frozenset({'Officiant'}) properties={'officiant_name': 'Brandon Norris'}>\n"
     ]
    }
   ],
   "source": [
    "# Получение всех официантов\n",
    "start = time.time()\n",
    "all_officiants = get_all_officiants(driver)\n",
    "end = time.time() - start\n",
    "print(\"\\nAll officiants:\")\n",
    "for officiant in all_officiants:\n",
    "    print(officiant)"
   ]
  },
  {
   "cell_type": "code",
   "execution_count": 40,
   "id": "b271b5a2",
   "metadata": {},
   "outputs": [
    {
     "name": "stdout",
     "output_type": "stream",
     "text": [
      "Время выполнения запроса: 11.382818222045898 ms\n"
     ]
    }
   ],
   "source": [
    "print(f\"Время выполнения запроса: {end * 1000} ms\")"
   ]
  },
  {
   "cell_type": "code",
   "execution_count": 41,
   "id": "2ccdf9ad",
   "metadata": {},
   "outputs": [
    {
     "name": "stdout",
     "output_type": "stream",
     "text": [
      "\n",
      "Clients reserved for table 9:\n",
      "<Node element_id='2000903' labels=frozenset({'Client'}) properties={'phone': '345.734.4227', 'client_name': 'Deanna Holt'}>\n",
      "<Node element_id='2000281' labels=frozenset({'Client'}) properties={'phone': '7303384351', 'client_name': 'Melissa Williams'}>\n",
      "<Node element_id='2000741' labels=frozenset({'Client'}) properties={'phone': '8017963362', 'client_name': 'Daniel Jordan'}>\n",
      "<Node element_id='2000792' labels=frozenset({'Client'}) properties={'phone': '6476337904', 'client_name': 'Jason Washington'}>\n",
      "<Node element_id='2000740' labels=frozenset({'Client'}) properties={'phone': '(325)849-9696x385', 'client_name': 'James Lucas'}>\n",
      "<Node element_id='2000472' labels=frozenset({'Client'}) properties={'phone': '547-275-5227', 'client_name': 'Maria Schmidt'}>\n",
      "<Node element_id='2000885' labels=frozenset({'Client'}) properties={'phone': '+1-875-409-1062x553', 'client_name': 'Robert Craig'}>\n",
      "<Node element_id='2000791' labels=frozenset({'Client'}) properties={'phone': '660.975.6668', 'client_name': 'Jamie Nelson'}>\n",
      "<Node element_id='2000055' labels=frozenset({'Client'}) properties={'phone': '(439)518-0155x0540', 'client_name': 'David Freeman'}>\n",
      "<Node element_id='2000186' labels=frozenset({'Client'}) properties={'phone': '+1-742-341-8319x238', 'client_name': 'James Rivera'}>\n",
      "<Node element_id='2000720' labels=frozenset({'Client'}) properties={'phone': '495-833-1900x89913', 'client_name': 'Brittany Gilbert'}>\n",
      "<Node element_id='2000283' labels=frozenset({'Client'}) properties={'phone': '706-973-1081', 'client_name': 'Michael Kerr DDS'}>\n",
      "<Node element_id='2000671' labels=frozenset({'Client'}) properties={'phone': '330-596-3222x588', 'client_name': 'Joseph Morrison'}>\n",
      "<Node element_id='2000662' labels=frozenset({'Client'}) properties={'phone': '(873)209-9540x15969', 'client_name': 'Robert Hammond'}>\n",
      "<Node element_id='2000785' labels=frozenset({'Client'}) properties={'phone': '(818)335-0911x40436', 'client_name': 'Sheila Johnson'}>\n",
      "<Node element_id='2000848' labels=frozenset({'Client'}) properties={'phone': '001-718-549-5461x79167', 'client_name': 'Thomas Bullock'}>\n",
      "<Node element_id='2000354' labels=frozenset({'Client'}) properties={'phone': '7502555267', 'client_name': 'Denise Dalton'}>\n",
      "<Node element_id='2000159' labels=frozenset({'Client'}) properties={'phone': '(557)393-6023', 'client_name': 'Jillian Hernandez MD'}>\n",
      "<Node element_id='2000401' labels=frozenset({'Client'}) properties={'phone': '001-429-924-9011x330', 'client_name': 'Tammy Moore'}>\n",
      "<Node element_id='2000691' labels=frozenset({'Client'}) properties={'phone': '523.324.7064x39587', 'client_name': 'Sandra Taylor'}>\n",
      "<Node element_id='2000882' labels=frozenset({'Client'}) properties={'phone': '2797130013', 'client_name': 'Betty Ramirez'}>\n",
      "<Node element_id='2000974' labels=frozenset({'Client'}) properties={'phone': '001-907-236-8791x86852', 'client_name': 'Christina Young'}>\n",
      "<Node element_id='2000934' labels=frozenset({'Client'}) properties={'phone': '412-313-3092', 'client_name': 'Candice Foley'}>\n",
      "<Node element_id='2000325' labels=frozenset({'Client'}) properties={'phone': '470-912-7507', 'client_name': 'Melissa Miller'}>\n",
      "<Node element_id='2000554' labels=frozenset({'Client'}) properties={'phone': '789-774-6182', 'client_name': 'Richard James'}>\n",
      "<Node element_id='2000869' labels=frozenset({'Client'}) properties={'phone': '+1-984-349-6867x495', 'client_name': 'Phyllis Greer'}>\n",
      "<Node element_id='2000114' labels=frozenset({'Client'}) properties={'phone': '772.553.6086x00204', 'client_name': 'Tyler Thompson'}>\n",
      "<Node element_id='2000560' labels=frozenset({'Client'}) properties={'phone': '+1-494-461-5609x082', 'client_name': 'Richard Allen'}>\n",
      "<Node element_id='2000467' labels=frozenset({'Client'}) properties={'phone': '(361)513-7652x12169', 'client_name': 'Allen Benson'}>\n",
      "<Node element_id='2000861' labels=frozenset({'Client'}) properties={'phone': '(234)852-9776', 'client_name': 'Joanna Williamson'}>\n",
      "<Node element_id='2000680' labels=frozenset({'Client'}) properties={'phone': '(527)818-2778x044', 'client_name': 'Mrs. Kara Meyers'}>\n",
      "<Node element_id='2000724' labels=frozenset({'Client'}) properties={'phone': '001-821-417-2020x7608', 'client_name': 'Leslie Martinez'}>\n",
      "<Node element_id='2000669' labels=frozenset({'Client'}) properties={'phone': '(228)481-7735x51379', 'client_name': 'Sharon Armstrong'}>\n",
      "<Node element_id='2000121' labels=frozenset({'Client'}) properties={'phone': '+1-881-352-8789', 'client_name': 'Todd Dalton'}>\n",
      "<Node element_id='2000520' labels=frozenset({'Client'}) properties={'phone': '481-734-7579x290', 'client_name': 'Justin Hall'}>\n",
      "<Node element_id='2000986' labels=frozenset({'Client'}) properties={'phone': '978-991-1026x75504', 'client_name': 'Victoria Mitchell'}>\n",
      "<Node element_id='2000604' labels=frozenset({'Client'}) properties={'phone': '9642988189', 'client_name': 'Maria Garrison'}>\n",
      "<Node element_id='2000425' labels=frozenset({'Client'}) properties={'phone': '980.663.6591x181', 'client_name': 'Laura Oneill'}>\n",
      "<Node element_id='2001005' labels=frozenset({'Client'}) properties={'phone': '470.781.1183', 'client_name': 'Carl Bell'}>\n",
      "<Node element_id='2000503' labels=frozenset({'Client'}) properties={'phone': '213-386-4329x39953', 'client_name': 'Jessica Raymond'}>\n",
      "<Node element_id='2000096' labels=frozenset({'Client'}) properties={'phone': '4669869045', 'client_name': 'Patricia Murphy'}>\n",
      "<Node element_id='2000594' labels=frozenset({'Client'}) properties={'phone': '+1-595-420-6275x66304', 'client_name': 'Stephanie Young'}>\n",
      "<Node element_id='2000278' labels=frozenset({'Client'}) properties={'phone': '+1-936-880-5411x905', 'client_name': 'Haley Ramirez'}>\n",
      "<Node element_id='2000133' labels=frozenset({'Client'}) properties={'phone': '+1-842-431-4466x462', 'client_name': 'Craig Ferrell'}>\n",
      "<Node element_id='2000070' labels=frozenset({'Client'}) properties={'phone': '410-311-4415x165', 'client_name': 'Thomas Herrera'}>\n",
      "<Node element_id='2000789' labels=frozenset({'Client'}) properties={'phone': '001-871-341-1350', 'client_name': 'Robert Gonzalez'}>\n",
      "<Node element_id='2000264' labels=frozenset({'Client'}) properties={'phone': '+1-434-227-4900x896', 'client_name': 'Thomas Stone'}>\n",
      "<Node element_id='2000136' labels=frozenset({'Client'}) properties={'phone': '(420)912-8077x00532', 'client_name': 'Edward Thomas'}>\n",
      "<Node element_id='2000415' labels=frozenset({'Client'}) properties={'phone': '001-628-941-6577x45978', 'client_name': 'Sandra Mason'}>\n",
      "<Node element_id='2000331' labels=frozenset({'Client'}) properties={'phone': '+1-463-401-7148x13021', 'client_name': 'Adrian Wilson'}>\n",
      "<Node element_id='2000534' labels=frozenset({'Client'}) properties={'phone': '(802)280-1351', 'client_name': 'Shane Love'}>\n",
      "<Node element_id='2000183' labels=frozenset({'Client'}) properties={'phone': '922.247.4017x74294', 'client_name': 'Donna Jones'}>\n",
      "<Node element_id='2000036' labels=frozenset({'Client'}) properties={'phone': '220.295.3205', 'client_name': 'Mary Fuller'}>\n",
      "<Node element_id='2000040' labels=frozenset({'Client'}) properties={'phone': '490-234-3130', 'client_name': 'Kyle Marsh'}>\n",
      "<Node element_id='2000048' labels=frozenset({'Client'}) properties={'phone': '(210)413-5618', 'client_name': 'Thomas Pace'}>\n",
      "<Node element_id='2000129' labels=frozenset({'Client'}) properties={'phone': '837.485.3921x518', 'client_name': 'Roger Yu'}>\n",
      "<Node element_id='2000873' labels=frozenset({'Client'}) properties={'phone': '366.448.0963', 'client_name': 'Richard Carter'}>\n",
      "<Node element_id='2000065' labels=frozenset({'Client'}) properties={'phone': '641.352.0608', 'client_name': 'Jennifer Benson'}>\n",
      "<Node element_id='2000375' labels=frozenset({'Client'}) properties={'phone': '001-580-506-0621x2860', 'client_name': 'Rachel Day'}>\n",
      "<Node element_id='2001029' labels=frozenset({'Client'}) properties={'phone': '+1-524-697-3221x1414', 'client_name': 'Julie Brown'}>\n",
      "<Node element_id='2000344' labels=frozenset({'Client'}) properties={'phone': '858.731.0464x81672', 'client_name': 'Charles Johnson'}>\n",
      "<Node element_id='2000914' labels=frozenset({'Client'}) properties={'phone': '748-747-0702x918', 'client_name': 'Amber Mcdaniel'}>\n",
      "<Node element_id='2000336' labels=frozenset({'Client'}) properties={'phone': '(463)672-2454', 'client_name': 'Bruce Vega'}>\n",
      "<Node element_id='2000518' labels=frozenset({'Client'}) properties={'phone': '+1-508-939-0466x61250', 'client_name': 'Nancy Mclean'}>\n",
      "<Node element_id='2000622' labels=frozenset({'Client'}) properties={'phone': '(405)283-7675', 'client_name': 'David Hahn'}>\n",
      "<Node element_id='2000151' labels=frozenset({'Client'}) properties={'phone': '561.998.1186x6495', 'client_name': 'Michael Maynard'}>\n",
      "<Node element_id='2000225' labels=frozenset({'Client'}) properties={'phone': '776-746-7495x669', 'client_name': 'Amy Alexander'}>\n",
      "<Node element_id='2000492' labels=frozenset({'Client'}) properties={'phone': '001-463-370-4437x17751', 'client_name': 'Robert Williams'}>\n",
      "<Node element_id='2000505' labels=frozenset({'Client'}) properties={'phone': '688-981-2224x0448', 'client_name': 'Charlene Wilson'}>\n",
      "<Node element_id='2000634' labels=frozenset({'Client'}) properties={'phone': '(452)423-6784x684', 'client_name': 'Patrick Sanchez'}>\n",
      "<Node element_id='2000131' labels=frozenset({'Client'}) properties={'phone': '(764)559-9154x8293', 'client_name': 'Shirley Nichols'}>\n",
      "<Node element_id='2000083' labels=frozenset({'Client'}) properties={'phone': '536-504-3199x27582', 'client_name': 'Daniel Mccoy'}>\n",
      "<Node element_id='2000528' labels=frozenset({'Client'}) properties={'phone': '291-332-8865x82018', 'client_name': 'Kathy Brewer'}>\n",
      "<Node element_id='2000180' labels=frozenset({'Client'}) properties={'phone': '(924)457-6813', 'client_name': 'Timothy Douglas'}>\n",
      "<Node element_id='2000436' labels=frozenset({'Client'}) properties={'phone': '(495)995-2237x11204', 'client_name': 'Kathleen Patterson'}>\n",
      "<Node element_id='2000508' labels=frozenset({'Client'}) properties={'phone': '253.459.8641x90240', 'client_name': 'Javier Moody'}>\n",
      "<Node element_id='2000484' labels=frozenset({'Client'}) properties={'phone': '809-720-4160', 'client_name': 'Tiffany Nicholson'}>\n",
      "<Node element_id='2000626' labels=frozenset({'Client'}) properties={'phone': '(231)986-1440', 'client_name': 'Sarah Zuniga'}>\n",
      "<Node element_id='2000456' labels=frozenset({'Client'}) properties={'phone': '001-310-575-4797', 'client_name': 'Teresa Williams'}>\n",
      "<Node element_id='2000743' labels=frozenset({'Client'}) properties={'phone': '001-852-698-5292x90120', 'client_name': 'Benjamin Tucker'}>\n",
      "<Node element_id='2000413' labels=frozenset({'Client'}) properties={'phone': '517.221.4074', 'client_name': 'Jesus Velazquez'}>\n",
      "<Node element_id='2000550' labels=frozenset({'Client'}) properties={'phone': '5225765070', 'client_name': 'Karina White'}>\n",
      "<Node element_id='2000674' labels=frozenset({'Client'}) properties={'phone': '863-607-6177x61852', 'client_name': 'Trevor Snow'}>\n",
      "<Node element_id='2000402' labels=frozenset({'Client'}) properties={'phone': '001-614-972-4296x797', 'client_name': 'Kevin Davis'}>\n",
      "<Node element_id='2000993' labels=frozenset({'Client'}) properties={'phone': '+1-660-366-0080x36387', 'client_name': 'Amber Powell'}>\n",
      "<Node element_id='2000315' labels=frozenset({'Client'}) properties={'phone': '735-701-1785x8212', 'client_name': 'Bryan Allen'}>\n",
      "<Node element_id='2000931' labels=frozenset({'Client'}) properties={'phone': '491-425-8756x81176', 'client_name': 'Mario Kerr'}>\n",
      "<Node element_id='2000440' labels=frozenset({'Client'}) properties={'phone': '226-701-1223x648', 'client_name': 'Diana Ellis'}>\n",
      "<Node element_id='2000490' labels=frozenset({'Client'}) properties={'phone': '475.479.3123', 'client_name': 'Tamara Diaz'}>\n",
      "<Node element_id='2000893' labels=frozenset({'Client'}) properties={'phone': '727-621-9467x8859', 'client_name': 'Jason Newton'}>\n",
      "<Node element_id='2000601' labels=frozenset({'Client'}) properties={'phone': '703-889-1254x718', 'client_name': 'Shane Webster'}>\n",
      "<Node element_id='2000564' labels=frozenset({'Client'}) properties={'phone': '(309)298-1448x21351', 'client_name': 'Teresa Odonnell'}>\n",
      "<Node element_id='2000782' labels=frozenset({'Client'}) properties={'phone': '802.493.6911x175', 'client_name': 'John Jordan'}>\n",
      "<Node element_id='2000419' labels=frozenset({'Client'}) properties={'phone': '(685)528-8593', 'client_name': 'Robert Lane'}>\n",
      "<Node element_id='2000835' labels=frozenset({'Client'}) properties={'phone': '+1-965-656-5987x30273', 'client_name': 'Eric Dunlap'}>\n",
      "<Node element_id='2000776' labels=frozenset({'Client'}) properties={'phone': '001-657-285-9200', 'client_name': 'Ashley Snyder'}>\n",
      "<Node element_id='2000250' labels=frozenset({'Client'}) properties={'phone': '775.524.3180x081', 'client_name': 'Mikayla Bradford'}>\n",
      "<Node element_id='2000714' labels=frozenset({'Client'}) properties={'phone': '(236)867-7297', 'client_name': 'Kristin Freeman'}>\n",
      "<Node element_id='2000868' labels=frozenset({'Client'}) properties={'phone': '+1-287-219-1983x24214', 'client_name': 'Dr. David Grant'}>\n",
      "<Node element_id='2000270' labels=frozenset({'Client'}) properties={'phone': '(978)647-4104', 'client_name': 'Ann French'}>\n",
      "<Node element_id='2000733' labels=frozenset({'Client'}) properties={'phone': '(889)331-0310x735', 'client_name': 'Daniel Rivera'}>\n"
     ]
    }
   ],
   "source": [
    "# Получение всех клиентов, зарезервировавших конкретный стол\n",
    "table_number = 9\n",
    "start = time.time()\n",
    "clients_reserved = get_clients_reserved_for_table(driver, table_number)\n",
    "end = time.time() - start\n",
    "print(f\"\\nClients reserved for table {table_number}:\")\n",
    "for client in clients_reserved:\n",
    "    print(client)"
   ]
  },
  {
   "cell_type": "code",
   "execution_count": 42,
   "id": "d4541dcb",
   "metadata": {},
   "outputs": [
    {
     "name": "stdout",
     "output_type": "stream",
     "text": [
      "Время выполнения запроса: 146.13938331604004 ms\n"
     ]
    }
   ],
   "source": [
    "print(f\"Время выполнения запроса: {end * 1000} ms\")"
   ]
  },
  {
   "cell_type": "code",
   "execution_count": 43,
   "id": "ebcc85c2",
   "metadata": {},
   "outputs": [
    {
     "name": "stdout",
     "output_type": "stream",
     "text": [
      "\n",
      "Tables served by officiant Julia Jones:\n",
      "<Node element_id='2000020' labels=frozenset({'Table'}) properties={'table_number': 1}>\n"
     ]
    }
   ],
   "source": [
    "# Получение всех столов, обслуживаемых конкретным официантом\n",
    "officiant_name = \"Julia Jones\"\n",
    "start = time.time()\n",
    "tables_served = get_tables_served_by_officiant(driver, officiant_name)\n",
    "end = time.time() - start\n",
    "print(f\"\\nTables served by officiant {officiant_name}:\")\n",
    "for table in tables_served:\n",
    "    print(table)"
   ]
  },
  {
   "cell_type": "code",
   "execution_count": 44,
   "id": "f27cbd5f",
   "metadata": {},
   "outputs": [
    {
     "name": "stdout",
     "output_type": "stream",
     "text": [
      "Время выполнения запроса: 39.96539115905762 ms\n"
     ]
    }
   ],
   "source": [
    "print(f\"Время выполнения запроса: {end * 1000} ms\")"
   ]
  },
  {
   "cell_type": "code",
   "execution_count": 99,
   "id": "f47588ab",
   "metadata": {},
   "outputs": [],
   "source": [
    "clear_database(driver)"
   ]
  },
  {
   "cell_type": "code",
   "execution_count": null,
   "id": "b1fc6ce7",
   "metadata": {},
   "outputs": [],
   "source": [
    "driver.close()"
   ]
  }
 ],
 "metadata": {
  "kernelspec": {
   "display_name": "Python 3 (ipykernel)",
   "language": "python",
   "name": "python3"
  },
  "language_info": {
   "codemirror_mode": {
    "name": "ipython",
    "version": 3
   },
   "file_extension": ".py",
   "mimetype": "text/x-python",
   "name": "python",
   "nbconvert_exporter": "python",
   "pygments_lexer": "ipython3",
   "version": "3.11.5"
  }
 },
 "nbformat": 4,
 "nbformat_minor": 5
}
